{
 "cells": [
  {
   "cell_type": "code",
   "execution_count": 1,
   "metadata": {},
   "outputs": [],
   "source": [
    "from azureml.core import Workspace\n",
    "from azureml.core.webservice import Webservice\n",
    "from azureml.core.authentication import ServicePrincipalAuthentication\n",
    "svc_pr = ServicePrincipalAuthentication(tenant_id=\"8fdd4a62-bf91-4b4a-a88e-b9bedc16ed32\",\n",
    "                                        service_principal_id=\"85cf0e5a-efd9-4198-a676-4b0652db520b\",\n",
    "                                        service_principal_password=\"8J~Tqk6XZSfPy0q_hVf8nlHJkhd96rXldq\")\n",
    "ws = Workspace(subscription_id=\"e112014e-a856-4c71-8fc1-4836d72b7c4c\",\n",
    "               resource_group=\"diagnoz\",\n",
    "               workspace_name=\"diagnozws\",\n",
    "               auth=svc_pr)"
   ]
  },
  {
   "cell_type": "code",
   "execution_count": null,
   "metadata": {},
   "outputs": [],
   "source": [
    "print(ws.webservices['diagnozinferenceservice'].get_logs())"
   ]
  },
  {
   "cell_type": "code",
   "execution_count": 2,
   "metadata": {},
   "outputs": [],
   "source": [
    "import json"
   ]
  },
  {
   "cell_type": "code",
   "execution_count": 3,
   "metadata": {},
   "outputs": [],
   "source": [
    "service = Webservice(workspace=ws, name='diagnozinferenceservice')\n",
    "scoring_uri = service.scoring_uri"
   ]
  },
  {
   "cell_type": "code",
   "execution_count": 4,
   "metadata": {},
   "outputs": [],
   "source": [
    "data = {\"image_1\":\"iVBORw0KGgoAAAANSUhEUgAAADIAAAAyCAIAAACRXR/mAAAAB3RJTUUH3gMNFw8k89g4GQAAF6JJREFUWIUl2OmTneWZ3/Hruu77Wc6+9enT+yJ1S0JCu4RABgSI3TarPbZj4nImNVMeV6qSSeKU40pqYtdMypUXUzV77CQzqZSdYDwYPICNjY2RECAhIaEVLa3e1N3q7rP02c/zPPdy5QX/w7fq86sf/vmWL5Xuntz5e5899z9PHv3Oc+mhPPrY62mz3IqWm9kHp7gVdefL8cEE+r7M+C89/+347JWFYEUP3/v8819YqtX8sVLqeiW1e2jo4U2tOkCk3OGMjCFYd/XYsYXr8zsff/T9//LDAvuzvdYTf/HHqfECG0tETNZqREAA7q62Vn5ztXVq7vK1Uw98/VG5Y+eu3HMPQTK94/MHshNFEZNsOeP7ynff+8WZ7nqlfyS156FdaEGibpZ7zq1bgeN7YWzPU4f8kXzBleWPbkJH9T+2PaSYzBnh+sIVKAQ7dviR+0cevi9sm6G771lbrO9/ZndiJGcZQAgDzFoKNCAhajOvt3W1Pbu2NjKZbflSJjkz+8vzAdBdR+/SQUCxBAJZMiLu3HFwe+7eCQZNYJCEZgnGqN1747L50DP/Zvqxe1sza7W5cmLfUAPCcCKZiFM8HtdKMwISogUGsIiUdu785mNTjabMxBEFsGUAgWzZsqTuQr1zfLa21FhFNTf3yebdh2e+91d45Vv/2O5q2JTJDeTSmwYzu4oWkBgBuHZ5JbWt5DnSWmKjpMRIM6EVLDVqdARrAh0yCSLHgpYkrbWWWQjBlq016CBZYrLIDAYtEaAhdllEbAVboMBc+vNfU2SK04WbTZXLwupv3l6/cEm6iF4unhobzewrhtUuA6JWLDzLxkvGpUBtQDgGCZSUZLQVjoMM4EoLBpTxPMloOBIoGSyDRYFIwMAIIJgMMxpCAhAgENiCAeUaqdn0ZmpLb12gXHxgtK9+ozZ/8sRK9UbcgJMYJXfPcGYq78RsbCjtu+7cR7fZlQxGAL31m7PWMEqNEWvrCKVIkmAbMZOxijSAkMoasmB9YywwChLIZBUzMyBayyQAEKzm0CoywCQI8db8euXs8uKPTrmp7GKtSnHnwsnjqcZ8fXmmXqvG9+6Rpad2dSpB7dhVrgQRYsy0KBpmaTaulQ8WcrqmvAFfSSDUlgVaSwQWBIERESmXEJiUtY4iJjSfxmSRgAAZgYFBI5Jll33jK4iASIak52uVd27AYGb8oZGR9LbKpSW1vBLPC+v69ZEDDzx7SFpAL+9RKdVerqV3DSdasbDe9PvTruOKyWJ3dt3ovsSwDwYQURNYi1JoQ8QukGbTi+qnV6OgO/DIFsMWEAgREIEBARARiQwYoYQRESGBxla9ufHaxcj3Sg51TpbLt89d/sVbA31qdnaxPnb/kYN3FvdtIiByCSEXT2zud0PtJH2tbeXayuU3PqpFFoEX/8+Jub9+/9Z7c5HVxCSQlRECUERkW52Lf/LapZffdUsxAEJJRJKMBI3WsgW2DAwGBDCgYLIGq6sbv/xP/+hKOTBdsopXVff8pZVdzx4hP9exMIDyjq/dx1JLsEYRDm0dYmk1kAqM3ggSg9nkZN/orkETmfil1Ytvnl46ff7B1fs2PbFFJn0JbBCQ7NJ7i9cuXvzMFx/K3jGEzMzMYJgQkAkQGS2wJRQKWWgDqHrRpf93djPFxEQqvjnHLf3+K8fSrcrHP3hlo1m2seEHv/1UfCDJFiUgIKAhIy0xQn12Pd2X1aHafGCSPGper63NrGV3DpRK+eD6ylJSjj+2AwUL5rBrj7/420QikX9kFyECIVg2AgSwAFLGchghI8VdQN0ph7oTSsHjBT95YHdu32S42jn9q8uPffPxMz98qS0LYiy/45HnBnZP/faNjzzNkjRpaSWAlmgbHdniXqwLir3NOdMxv3r5xIHRwtBn9/hJ30DUWu+25laRHUNw7cUP28vrj37364nhpCWXQQnhojJANhK2V+7GJHR6uvdJ5aM3T+XAmbx/q5Ru4dB0ZqqgCdu3ll/7+dszbxe7HL//j76+62tH1Ea7PF/eMdwfKyakcqynOGB2IrCeJ1QvOdIfBUYALt2sdT+5Tblc9ezS8plP9I3l/NQ4Pbz3wx/8ZO/k6DuXP9myZdPcyRvJfaNxXzELDYoc0AZ5tS1MhIWcJ3s/+v4rO7W7/0+/1Fxo1xdqmaRMkdFdkMVko9HIZfqf/97TuR3DRttgsVmcLpAnCUAKA4HB1ukFQeAIqQPLEbtpF3rmxqtndu4YH37hsA3CC5cWSk8ert2qFMqVbV+4Z3zryDOzE4tnro48MJmSqFiwsSSRLcsIP/7ZecWCHLX2T+8e8hPx3VPBUs8VrKwVxJ2yMQu1v/vbnz7UHzvynSczd4wZ1lwO/LGkSMXYYtTpSRIgDKBL6z89lRjrD9ab7Nj0/un5DxfEYmPguf1uv7f+bvnwlw/N/9PZwnQxNVmMNe3S+Vkh6MgfPkxjfZEhiKKo1eutBQahOV/xBUfXlprXFwczOeW6dr1eff/G4HN3XP9dedPhidlPlq+9eIpn147+yb8s7Bsj0CYEk0SHYtxSjFbEhbQGLNtr/+t4OuYnj+7svnTGcRNrb378s79+bffUeN/hgfKlar1aHx6OW/DfePPs5544mN1TSubG8vuGhHCsYiaNjoj52Vhea4I4OevX1obGinbXCKw2TC80hnUrLB9bOXTH0PL7ty78+BfNamV6x9TAgxORBWIGiRgImxCOFFobR0jxnX/1reqlclSu9GZXE/1pN+MWHpma/XgFdfDYn30xlst5/b6fis+fmPcK8vHfP9K/bzSWTZlOKJMuOhKQmViCZzkCkmS5u9pERaRU1DOO7wdKJAopI5mCsLURXDh+MSYCjiWUk0wX/fxIEQhYW+mTw6QAhCAIrJz57fmX/+bFb/7lf7huTnpbhpJjuaU3Lvc+mn/gDx538imlo6Dae/etizSz9OSfftlaCwTU0/5QgsghNhpIkqt0qFuWsCuzKd3soYk6tdDLuX4pw05Hpl0xu0EpOn1udsvBKdhoHHn6YHI6v3x6aeP67dzW4cbHi+k7hzkuJABaqxwre43WZNKNF1PZqQFb6515+YNYyww+tj2/bdCylkISwNbRfGq0jxk+JVwDS88jl5hQWMvaCELFWmnlKuMOZZpX1vxSAth0F+vGJbvSXF+tnDtxs39/bvnW6qN/9JCXiqEjBu8ei9bauhdm9oxIAAMWkQyiE1jKDo5MHD5CUri+e+OlD8xqW0wVh++dAkkSpZLcWWs4a0F+Tz8ai8K3FhAluZIkgGEmMoRRW6tG5LuekTZoaBsYY7l24TY4JlJ26dpi2A6XV86tXq8eenZ/ejRDibhlcKRwSnEHBHpg0APLRiEaaz2PWrere75y15Uff2ivrCdjbkzIyEMpJUhmEvpWO1yqDj+9A3MFdhijHgnCGIBAawQTEGuH2Uu6giDoacvQm10TgldPXUWP202lb5fT+cyJG+e2DU49/ofPjOwdV0zStyTJaIsB2ASSkeAaCA0IDQhsFNV+daZ8tlIcKQQZ7+z8Wk8r2wgpJkmLbq+3+NuLww/f6aSlC1orYOFaa1EJYkLHABi2pFGEyqInUQBF/OGxy2G9RyRj0mnNrLQqreXrt7cOiJ1PPDhxZCv4koCMImBkQZQgYQUTktJRM+wtdcK6ZgW07V8/mchSNQhufLw4F1SLR7e3I/roJx/PX1g++1fvlPZMsksmFAYEWc3GAhC4FoRGzcgOS2G6HTWz5makqqmffP/nvjGtSj2djRmBqclBkUieW3xH3H3PtucPA3IUWUAjhEWtpcMM0ljTa3Tba21WRrooElLGETvNtu3ouXdnHHbyu/tbM7VkKVGrtrtRePP03Of/3cPkuqhZkyC2LEgwMAFrAPEp8QwoNTJ3Vf3K2u0T12oza/EQKQZXy6uNm1d68fjnvv17Ewf3yowk6ZGOGB0mBiLQDACAJmpFq6cWBg5POHHPEaytlKoRCYNoyLRbc/97pae6haGCW0yhx4985V4iP9LWdSSxZpYOWEsATCgYyLJCS5LZmPV2WI/qpxdTbcOlYud2xbiuk2RnYnzfF++ZfviwkNZqidZ26pG1bT+VEEToSRspjpCbKlaMy7jLHdVDBAhl7cpafDSbaIW1S7fJhZF8TjHHkiI3nOWUZLQugLVGMllkDYgWQTBqBkAQzFqxZfDk6vvnwytLJpvqdIO2DjtvvdjJbz7wwjO7nrkPkNkQkdXEbtyxHRaEwe2WdXjx7bne1dVmdX3nv31c17RTJBcIjSOrP/uo4vjgaomOYpzX7Yk9UwbAtMKkn2MgJvvpDtYGHWktoFBsCRgFGcUS0crK21c2TlwPlaLInp+9Od267gKv+7DzCwdQWgFkjQUSaAh8QMTOtVrjVi3UNr8pP3N5PnPvFl9Kt88RFi0xS5DO/tF4IdW+tpHcnd929xb0JJMyNX3rd9cqN9cnn97pZmNWoRIm5tjACoHGEBAjYWQIjYLlVz4qv3FOA4l4Ym593XSrS5Uld/NdX/2PX5PpGDJrjcJzOIoQsbvRdYVQSZGeyjue31hpbH3hMygApUNAmkBoZgdxY77SWmlmNqXjyQRLi5oiDegAAVz40cmVa+u7j+4ofWYCPUB2yWoDJImaq7XVy+WYS/Mnr8y++lb/wJbMdKl/cuTXP//NprB9XejHvvHPNn92NwsCZCFEbX69O9Pov3cSGI2KhJER87UfHZ944k4/lRQIhOwUE4jAJFiz1I2um/T8TMpE1oC0WoG2EHHUiwb2bJ64Z8vM8Qunf3PywONHCnsGnLiUqG6ernzwn38gahuBhSjmbZvcGRUSzlRppd1yFs64scTo/Z/d9PCdiNy5sm4qQbfZETHn2usfBxud4YMjMp9e+2Sxer2czSaSY0XVaMdLWYugNUkwzIxoZaejK5cWGNjN+2TAdRyIOyhYdcJ4TAhHbDm6d2z75g9++ObJS9fv6B8kIch0Y66nYtmtT+2N5XMz7804q429X7//xe/9fdZsBIlkYbzQntnwN6UFCJuFmJtw8/7UobHWQnlmoxVZWdpaLOSSMzNrzZ+d3fml/VpbFugKbRABAFnI3ESu/84BZIGuBSYjlKNQAdbOLPcdGOyWA1S6V2lnpiYGby0Pl7L5kRErNUrBKTn9/N2JhJw4euf1V84tfjhXk07ByUUdMZLK+9Mpx3fk5rTv96FA1ji8pUBde+XNK6mN9tqx2ZPvnb7/2Xv6do0Jy+gJa9kYtARkMQi7UqQ9RGTSoEA6ZEKp0a5eWak1OrkA09N9jicTWwMn79mNdv/mfizFByZKCsiNY2ogpplSCZEfLdWOXR1kyI/eUS6kS0/t8BIJTdi5uJDcN4rWkkBghxNQXq6Uzy99vPDJU+M7pr56j+uIWl3ligQKWIEBrbtahyFJRGAgkCiENoYcKwS9+84522n7pYT0JIN1/Vjxnsnslv66g7lNA5ogO5HudsKgpQQzEPVN9pmYTDWDmwtn99xzKJaJGbS9KyuVX18RmoxktAhgF84tZvIJsT3z5HMPt2NIPRUG5i+/9ffX3rhYvrEeRRFrI7JeopSUjAAWwTICWyZp2SDfs39HJu0jAQIykCUjmdIjheVz58gMZjYVRToxuNsLyh0bc2xkg0a3udG1UZUspAbyRmA4U11//UptbnWs0yPyDPPK1bW1UzdvL9z+zD8/nM7mm6M3u81Qm/Df/9kLUWSy/SlIOIItAzKDJGZNLJE0s0NsEchSqphMThYxCI2Q0kG2UF/rjj4w0tmoO+iB47uClUEnn7p17GZ6IitLyeqwt/BB9c5sPntoDECY9Xa7F0x8+TOdxWpieki1u31jhczndm1bn/JGi37Oiw/u1YS1M7ecsRT3FLnoIIdA8lMSLINgocEKFjoEpQEdwm7gooakzw6DgY3lpkyacN26xtWsFo/P1a6s6VZQOXmrb3su0Z8hFLsObumLOW5h0M2mTHlj7v254t2T+UNjfjFNcRPL+m5ceDEvtXdEd3pkJUt2hMWEWLpVjbluENmAQWowBnqtngRAJhAGwk67eavTnl9tbbTKa+FIOdj60HTjdrcxt1Ycyam5yBuLZ8YyuqmWNm6166nM1bgilbWFKAzQFaPbx07nhr2BuJcU9SU99vSWZKkAvufEJIUCXBSWoZBsLFcdFmHYdb2YtSa83Slt66ekjAEyg3UYGU//bkaG9cBGujK7YYF6y+XJR+4Yj7un/u8J1et88N/fr3Q2jv7+ES8Vm79wvZQfGnhgkg0OmrHq9aaOdN/mNCc8Uw4yk1nTC8eP3rv04QndNomBpDEJmfKYLZI0DoNVAA6RjWVTEIaeG7NC68AkEq5abZlsglLAFtGw6gUv/93PpJf2QPqZdhRWO6UHJv2UJxD3PnWwcnqhf3tmOD8Sz6XY6sKWIjnSMpHDRrtK9VJ9CXD8sNl14miYUIhUOh0pF6QTrla4GTipEfZQGGuBfeMYz1gjhaNsImHRkBJsLGRcRsGeRXYB0LB6/9VL28f6JQtExsRQunpxKbOl//TxS6VsDsutwcMT3Z4V63UUHAVou0oUE6gMgbAuOyw7620vk4zFfOk5ymhTNx0VzTQ6YHRsvIASkBE1M7LUGErGEKTQGsFTFlxhSfduN6OlVv7goON5rEx5du31f/jwndde//Z3vyEBQBCAR5qpcm2lenPJGzSZbBKlTBdFz8fGWscqBYFqf7SSPjgEmbhuhiLv+24C4oIJLFpQ1ul3FFMKPHQskkQLFi0iAZIV1gHTWO4xcWtx9fLrV7NFrzg92ltupMYy7Wovk0vUV5uVT9Y/+437O83qT/72FQkIUU/dOn5j5PCYX0qNHtrU2ujFPJQJqSLwszFZDdvtKLN/RKKwLqMFi1C+ur7t4elWvefn4sCWPLH0u7mTv/xgPFvolduJwSJzBEBgAcBElaDRjOZePTN495byUmPrQ5OJgazSJvDV7dVGRg6hwfZKdeyuTfGC97mvHlW9vTKq9VZulCcenCKUYAlckIaN75El6SJETHlPVDud+Wpyuig0AAIwVtZr62vt/FCMQDDT4pmbr/3XH6OQpYGBZC6j0ZB2AEOQLhgwZGuLqzIXP/72mSNfOtC/fVJoHfV0YcuAbpv6hQUn5+oO6K6yxfjNm4vJcZDttcbUwREFQjioIrBag9WSiI1FAOuxo/h//Lef7i8O3vfdp9hFYA7qvVw+qW7VoZjYWLp9/h9OnD+zsHnfrlqrvuvrd0Xw6b/ac4WvmQkJtY2RO/EvDuwBh0mw0eyAw0Su65BqpVO9ctdja3vByTduZNthbnRa5seK1pGOMqEWUuqookQhAWBJkkJyI2h2uvcduaO30um1es3Vhktup1rf8sA0+76x0Vvf/5VnxeMv3Dvx6Lal8+X4SN7xmVvIFmzCSBbWGCchs5NZIo/ZsLBgETRY6aDSCrGzUomrXK3Se++l9xrlyiPPHN48Nk7GA7DWCEeyBYXosY0ANZrAYC+wHKpq964Xjux87q7Fc0uZ/nRhR2Z4z6hxpWV95eVPZuYWdjy5fforB/1cJr+tKDzXEimhGgstNmwFADNbsoIBLCPgp8ERSNQoiCz1JM0du5pKu6358ubxgTs/v5vBkiMERghGG23CeijiCSdmwGHyyXFjLKSbdK2mVF+qNJyK5xIcOtL1XFcsvHrhp3/z0vj46OijO8FwYE08TtzTyKgagYM6qvW4a9igjHuIAgKNAqy2EgHBGk3MwEYNbRvJlwqnz8wnI7VpKF+d2QgDJS2xtRyuN9xYTPb7wmq2cUAFTBatjpTvCkdqLVB6cUArBLQr3fePXaITK3FBksXqWi3tyRiSzKXQtwjWMOoAO+vdMNDxjC/SbrKUaizVk2N9QhoNLkIkEbobvbDRTfXHPzh19caZ84/8weMTzx5MZB3HJfHF7c97MRUv9YmUI9kaEAIUEyHYsKtEiBB3gGju9Yvc7jp9mdl35lbencln3YFtAzdOzz36x4+O7hjhDixfXbx46tqmXeMq4BuvnhM5J11KIcDGUhXBtsphtx3Wr65gLGHbbROh6oXoOGTN2uWVW6cXDj17aPrpvdmhjHQlSOf/A1W0c6MHBpmeAAAAAElFTkSuQmCC\",\n",
    "           \"image_2\":\"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\"}"
   ]
  },
  {
   "cell_type": "code",
   "execution_count": 5,
   "metadata": {},
   "outputs": [],
   "source": [
    "data_raw = json.dumps({\"data\": data})"
   ]
  },
  {
   "cell_type": "code",
   "execution_count": null,
   "metadata": {},
   "outputs": [],
   "source": [
    "print(data_raw)"
   ]
  },
  {
   "cell_type": "code",
   "execution_count": 6,
   "metadata": {},
   "outputs": [
    {
     "name": "stdout",
     "output_type": "stream",
     "text": [
      "[{\"image_1\": \"cancer\"}, {\"image_2\": \"cancer\"}]\n"
     ]
    }
   ],
   "source": [
    "prediction = service.run(input_data=data_raw)\n",
    "print(prediction)"
   ]
  },
  {
   "cell_type": "code",
   "execution_count": null,
   "metadata": {},
   "outputs": [],
   "source": [
    "print(scoring_uri)"
   ]
  },
  {
   "cell_type": "code",
   "execution_count": null,
   "metadata": {},
   "outputs": [],
   "source": []
  }
 ],
 "metadata": {
  "kernelspec": {
   "display_name": "Python 3",
   "language": "python",
   "name": "python3"
  },
  "language_info": {
   "codemirror_mode": {
    "name": "ipython",
    "version": 3
   },
   "file_extension": ".py",
   "mimetype": "text/x-python",
   "name": "python",
   "nbconvert_exporter": "python",
   "pygments_lexer": "ipython3",
   "version": "3.7.9"
  }
 },
 "nbformat": 4,
 "nbformat_minor": 4
}
